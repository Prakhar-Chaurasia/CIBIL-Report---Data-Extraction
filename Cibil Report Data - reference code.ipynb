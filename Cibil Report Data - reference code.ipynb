{
 "cells": [
  {
   "cell_type": "markdown",
   "metadata": {},
   "source": [
    "# Importing libs and connecting to AWS"
   ]
  },
  {
   "cell_type": "code",
   "execution_count": 1,
   "metadata": {},
   "outputs": [],
   "source": [
    "import connectors\n",
    "import json\n",
    "import pandas as pd\n",
    "s3 = connectors.aws_resource()"
   ]
  },
  {
   "cell_type": "markdown",
   "metadata": {},
   "source": [
    "# Reading files from S3 as json"
   ]
  },
  {
   "cell_type": "code",
   "execution_count": 2,
   "metadata": {},
   "outputs": [],
   "source": [
    "path = 'loantap_cibil_reports/cibil_006308_23881792.json'"
   ]
  },
  {
   "cell_type": "code",
   "execution_count": 3,
   "metadata": {},
   "outputs": [],
   "source": [
    "obj = s3.Object('unofin-prod-private', path)\n",
    "body = obj.get()['Body'].read()\n",
    "x = json.loads(body)"
   ]
  },
  {
   "cell_type": "code",
   "execution_count": 4,
   "metadata": {},
   "outputs": [],
   "source": [
    "# Extracting Lead id from path\n",
    "lead_id = path[28:]"
   ]
  },
  {
   "cell_type": "code",
   "execution_count": 5,
   "metadata": {},
   "outputs": [],
   "source": [
    "# Navigating into Account section of CIBIL Report\n",
    "db = x['data']['CreditReport']['Account']"
   ]
  },
  {
   "cell_type": "markdown",
   "metadata": {},
   "source": [
    "# Extracting data for each account"
   ]
  },
  {
   "cell_type": "code",
   "execution_count": 6,
   "metadata": {},
   "outputs": [],
   "source": [
    "# Getting Account Types\n",
    "items = []\n",
    "for item in db:\n",
    "    try:\n",
    "        items.append(item['Account_NonSummary_Segment_Fields']['AccountType'])\n",
    "        get_account_types = items\n",
    "        \n",
    "    except KeyError:\n",
    "         continue"
   ]
  },
  {
   "cell_type": "code",
   "execution_count": 7,
   "metadata": {},
   "outputs": [],
   "source": [
    "# Getting Current Balance\n",
    "items = []\n",
    "for item in db:\n",
    "    try:\n",
    "        items.append(item['Account_NonSummary_Segment_Fields']['CurrentBalance'])\n",
    "        get_current_balance = items\n",
    "    except KeyError:\n",
    "        continue"
   ]
  },
  {
   "cell_type": "code",
   "execution_count": 8,
   "metadata": {},
   "outputs": [],
   "source": [
    "# Getting Sanctioned Amount\n",
    "items = []\n",
    "for item in db:\n",
    "    try:\n",
    "        items.append(item['Account_NonSummary_Segment_Fields']['HighCreditOrSanctionedAmount'])\n",
    "        get_sanc_amount = items\n",
    "    except KeyError:\n",
    "         continue"
   ]
  },
  {
   "cell_type": "markdown",
   "metadata": {},
   "source": [
    "# Converting list to a dataframe for easier use"
   ]
  },
  {
   "cell_type": "code",
   "execution_count": 9,
   "metadata": {},
   "outputs": [],
   "source": [
    "get_account_types = list(map(int, get_account_types))\n",
    "get_current_balance = list(map(int, get_current_balance))\n",
    "get_sanc_amount = list(map(int, get_sanc_amount))"
   ]
  },
  {
   "cell_type": "code",
   "execution_count": 10,
   "metadata": {},
   "outputs": [],
   "source": [
    "# Creating a dataframe\n",
    "df = pd.DataFrame(list(zip(get_account_types,get_current_balance,get_sanc_amount)), \n",
    "               columns =['A/c Type','Current Balance','Sanction Amount']) "
   ]
  },
  {
   "cell_type": "code",
   "execution_count": 11,
   "metadata": {},
   "outputs": [],
   "source": [
    "# Condition for active loans\n",
    "df_filtered = df[df['Current Balance'] > 0] "
   ]
  },
  {
   "cell_type": "markdown",
   "metadata": {},
   "source": [
    "# Deriving desired columns"
   ]
  },
  {
   "cell_type": "code",
   "execution_count": 12,
   "metadata": {},
   "outputs": [],
   "source": [
    "total_debt = sum(df['Current Balance'])\n",
    "total_loans = len(df)\n",
    "total_active_loans = len(df_filtered)\n",
    "total_sanc_amount = sum(df['Sanction Amount'])"
   ]
  },
  {
   "cell_type": "code",
   "execution_count": 13,
   "metadata": {},
   "outputs": [],
   "source": [
    "result = df['A/c Type'].isin([1,13,17,32,34,46]).any().any()\n",
    "if result:\n",
    "    auto_loan = 'True'\n",
    "else:\n",
    "    auto_loan = 'False'"
   ]
  },
  {
   "cell_type": "code",
   "execution_count": 14,
   "metadata": {},
   "outputs": [],
   "source": [
    "result = df['A/c Type'].isin([2,3]).any().any()\n",
    "if result:\n",
    "    housing_loan = 'True'\n",
    "else:\n",
    "    housing_loan = 'False'"
   ]
  },
  {
   "cell_type": "code",
   "execution_count": 15,
   "metadata": {},
   "outputs": [],
   "source": [
    "pl_cl =df[df['A/c Type'].isin([5,45,6])]\n",
    "no_of_pl_cl = len(pl_cl)\n",
    "pl_cl_amount = sum(pl_cl['Sanction Amount'])"
   ]
  },
  {
   "cell_type": "code",
   "execution_count": 16,
   "metadata": {},
   "outputs": [],
   "source": [
    "pl_cl =df_filtered[df_filtered['A/c Type'].isin([5,45,6])]\n",
    "active_pl_cl = len(pl_cl)\n",
    "active_pl_cl_amount = sum(pl_cl['Current Balance'])"
   ]
  },
  {
   "cell_type": "code",
   "execution_count": 17,
   "metadata": {},
   "outputs": [],
   "source": [
    "cc =df[df['A/c Type'].isin([10,35,36,37])]\n",
    "no_of_cc = len(cc)\n",
    "cc_amount = sum(cc['Sanction Amount'])"
   ]
  },
  {
   "cell_type": "code",
   "execution_count": 18,
   "metadata": {},
   "outputs": [],
   "source": [
    "cc =df_filtered[df_filtered['A/c Type'].isin([10,35,36,37])]\n",
    "active_cc = len(cc)\n",
    "active_cc_amount = sum(cc['Current Balance'])"
   ]
  },
  {
   "cell_type": "markdown",
   "metadata": {},
   "source": [
    "# Calculating CIBIL Vintage"
   ]
  },
  {
   "cell_type": "code",
   "execution_count": 19,
   "metadata": {},
   "outputs": [],
   "source": [
    "from datetime import datetime\n",
    "from dateutil.relativedelta import relativedelta\n",
    "items = []\n",
    "dates = []\n",
    "for item in db:\n",
    "    try:\n",
    "        items.append(item['Account_NonSummary_Segment_Fields']['DateOpenedOrDisbursed'])\n",
    "        get_vintage = items\n",
    "        for s in get_vintage:\n",
    "         date = datetime.strptime(s, '%d%m%Y')\n",
    "         dates.append(date)\n",
    "         vintage = dates\n",
    "    except KeyError:\n",
    "         continue"
   ]
  },
  {
   "cell_type": "code",
   "execution_count": 20,
   "metadata": {},
   "outputs": [],
   "source": [
    "vin_date = min(vintage)\n",
    "vintage = relativedelta(datetime.now(),vin_date).years * 12 + relativedelta(datetime.now(),vin_date).months"
   ]
  },
  {
   "cell_type": "markdown",
   "metadata": {},
   "source": [
    "# Creating final dataframe for use"
   ]
  },
  {
   "cell_type": "code",
   "execution_count": 21,
   "metadata": {},
   "outputs": [],
   "source": [
    "data = pd.DataFrame({\n",
    "    'id': lead_id,\n",
    "    'total_loans': total_loans,\n",
    "    'total_active_loans' : total_active_loans,\n",
    "    'total_sanc_amount' : total_sanc_amount,\n",
    "    'total_debt': total_debt,\n",
    "    'auto_loan_flag': auto_loan,\n",
    "    'housing_loan_flag': housing_loan,\n",
    "    'no_of_relevant_loans': no_of_pl_cl,\n",
    "    'relevant_loans_sanc_amount' : pl_cl_amount,\n",
    "    'active_relevant_loans' : active_pl_cl,\n",
    "    'current_balance_relevant_loans' : active_pl_cl_amount,\n",
    "    'no_of_credit_cards': no_of_cc,\n",
    "    'credit_card_sanc_amount': cc_amount,\n",
    "    'active_credit_cards': active_cc,\n",
    "    'current_balance_credit_cards': active_cc_amount,\n",
    "    'cibil vintage' : vintage\n",
    "}, index=[0])"
   ]
  },
  {
   "cell_type": "code",
   "execution_count": 22,
   "metadata": {},
   "outputs": [
    {
     "data": {
      "text/html": [
       "<div>\n",
       "<style scoped>\n",
       "    .dataframe tbody tr th:only-of-type {\n",
       "        vertical-align: middle;\n",
       "    }\n",
       "\n",
       "    .dataframe tbody tr th {\n",
       "        vertical-align: top;\n",
       "    }\n",
       "\n",
       "    .dataframe thead th {\n",
       "        text-align: right;\n",
       "    }\n",
       "</style>\n",
       "<table border=\"1\" class=\"dataframe\">\n",
       "  <thead>\n",
       "    <tr style=\"text-align: right;\">\n",
       "      <th></th>\n",
       "      <th>id</th>\n",
       "      <th>total_loans</th>\n",
       "      <th>total_active_loans</th>\n",
       "      <th>total_sanc_amount</th>\n",
       "      <th>total_debt</th>\n",
       "      <th>auto_loan_flag</th>\n",
       "      <th>housing_loan_flag</th>\n",
       "      <th>no_of_relevant_loans</th>\n",
       "      <th>relevant_loans_sanc_amount</th>\n",
       "      <th>active_relevant_loans</th>\n",
       "      <th>current_balance_relevant_loans</th>\n",
       "      <th>no_of_credit_cards</th>\n",
       "      <th>credit_card_sanc_amount</th>\n",
       "      <th>active_credit_cards</th>\n",
       "      <th>current_balance_credit_cards</th>\n",
       "      <th>cibil vintage</th>\n",
       "    </tr>\n",
       "  </thead>\n",
       "  <tbody>\n",
       "    <tr>\n",
       "      <th>0</th>\n",
       "      <td>006308_23881792.json</td>\n",
       "      <td>3</td>\n",
       "      <td>3</td>\n",
       "      <td>840780</td>\n",
       "      <td>601252</td>\n",
       "      <td>True</td>\n",
       "      <td>False</td>\n",
       "      <td>0</td>\n",
       "      <td>0</td>\n",
       "      <td>0</td>\n",
       "      <td>0</td>\n",
       "      <td>1</td>\n",
       "      <td>37780</td>\n",
       "      <td>1</td>\n",
       "      <td>16306</td>\n",
       "      <td>46</td>\n",
       "    </tr>\n",
       "  </tbody>\n",
       "</table>\n",
       "</div>"
      ],
      "text/plain": [
       "                     id  total_loans  total_active_loans  total_sanc_amount  \\\n",
       "0  006308_23881792.json            3                   3             840780   \n",
       "\n",
       "   total_debt auto_loan_flag housing_loan_flag  no_of_relevant_loans  \\\n",
       "0      601252           True             False                     0   \n",
       "\n",
       "   relevant_loans_sanc_amount  active_relevant_loans  \\\n",
       "0                           0                      0   \n",
       "\n",
       "   current_balance_relevant_loans  no_of_credit_cards  \\\n",
       "0                               0                   1   \n",
       "\n",
       "   credit_card_sanc_amount  active_credit_cards  current_balance_credit_cards  \\\n",
       "0                    37780                    1                         16306   \n",
       "\n",
       "   cibil vintage  \n",
       "0             46  "
      ]
     },
     "execution_count": 22,
     "metadata": {},
     "output_type": "execute_result"
    }
   ],
   "source": [
    "data.head()"
   ]
  },
  {
   "cell_type": "code",
   "execution_count": null,
   "metadata": {},
   "outputs": [],
   "source": []
  }
 ],
 "metadata": {
  "kernelspec": {
   "display_name": "Python 3",
   "language": "python",
   "name": "python3"
  },
  "language_info": {
   "codemirror_mode": {
    "name": "ipython",
    "version": 3
   },
   "file_extension": ".py",
   "mimetype": "text/x-python",
   "name": "python",
   "nbconvert_exporter": "python",
   "pygments_lexer": "ipython3",
   "version": "3.6.9"
  }
 },
 "nbformat": 4,
 "nbformat_minor": 2
}
